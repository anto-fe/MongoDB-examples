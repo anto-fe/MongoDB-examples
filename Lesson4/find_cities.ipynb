{
 "cells": [
  {
   "cell_type": "code",
   "execution_count": 4,
   "metadata": {
    "collapsed": false
   },
   "outputs": [
    {
     "name": "stdout",
     "output_type": "stream",
     "text": [
      "Found cities: 0\n"
     ]
    },
    {
     "ename": "IndexError",
     "evalue": "no such item for Cursor instance",
     "output_type": "error",
     "traceback": [
      "\u001b[0;31m---------------------------------------------------------------------------\u001b[0m",
      "\u001b[0;31mIndexError\u001b[0m                                Traceback (most recent call last)",
      "\u001b[0;32m<ipython-input-4-238fe2a1428c>\u001b[0m in \u001b[0;36m<module>\u001b[0;34m()\u001b[0m\n\u001b[1;32m     57\u001b[0m     \u001b[0;32mprint\u001b[0m \u001b[0;34m\"Found cities:\"\u001b[0m\u001b[0;34m,\u001b[0m \u001b[0mcities\u001b[0m\u001b[0;34m.\u001b[0m\u001b[0mcount\u001b[0m\u001b[0;34m(\u001b[0m\u001b[0;34m)\u001b[0m\u001b[0;34m\u001b[0m\u001b[0m\n\u001b[1;32m     58\u001b[0m     \u001b[0;32mimport\u001b[0m \u001b[0mpprint\u001b[0m\u001b[0;34m\u001b[0m\u001b[0m\n\u001b[0;32m---> 59\u001b[0;31m     \u001b[0mpprint\u001b[0m\u001b[0;34m.\u001b[0m\u001b[0mpprint\u001b[0m\u001b[0;34m(\u001b[0m\u001b[0mcities\u001b[0m\u001b[0;34m[\u001b[0m\u001b[0;36m0\u001b[0m\u001b[0;34m]\u001b[0m\u001b[0;34m)\u001b[0m\u001b[0;34m\u001b[0m\u001b[0m\n\u001b[0m\u001b[1;32m     60\u001b[0m \u001b[0;34m\u001b[0m\u001b[0m\n",
      "\u001b[0;32m/home/pc/anaconda2/lib/python2.7/site-packages/pymongo/cursor.pyc\u001b[0m in \u001b[0;36m__getitem__\u001b[0;34m(self, index)\u001b[0m\n\u001b[1;32m    565\u001b[0m             \u001b[0;32mfor\u001b[0m \u001b[0mdoc\u001b[0m \u001b[0;32min\u001b[0m \u001b[0mclone\u001b[0m\u001b[0;34m:\u001b[0m\u001b[0;34m\u001b[0m\u001b[0m\n\u001b[1;32m    566\u001b[0m                 \u001b[0;32mreturn\u001b[0m \u001b[0mdoc\u001b[0m\u001b[0;34m\u001b[0m\u001b[0m\n\u001b[0;32m--> 567\u001b[0;31m             \u001b[0;32mraise\u001b[0m \u001b[0mIndexError\u001b[0m\u001b[0;34m(\u001b[0m\u001b[0;34m\"no such item for Cursor instance\"\u001b[0m\u001b[0;34m)\u001b[0m\u001b[0;34m\u001b[0m\u001b[0m\n\u001b[0m\u001b[1;32m    568\u001b[0m         raise TypeError(\"index %r cannot be applied to Cursor \"\n\u001b[1;32m    569\u001b[0m                         \"instances\" % index)\n",
      "\u001b[0;31mIndexError\u001b[0m: no such item for Cursor instance"
     ]
    }
   ],
   "source": [
    "#!/usr/bin/env python\n",
    "\"\"\"\n",
    "Your task is to write a query that will return all cities\n",
    "that are founded in 21st century.\n",
    "Please modify only 'range_query' function, as only that will be taken into account.\n",
    "\n",
    "Your code will be run against a MongoDB instance that we have provided.\n",
    "If you want to run this code locally on your machine,\n",
    "you have to install MongoDB, download and insert the dataset.\n",
    "For instructions related to MongoDB setup and datasets please see Course Materials.\n",
    "\"\"\"\n",
    "from datetime import datetime\n",
    "\n",
    "\n",
    "def range_query():\n",
    "    # Modify the below line with your query.\n",
    "    # You can use datetime(year, month, day) to specify date in the query\n",
    "    query = {'foundingDate':{\"$gte\": datetime(2001,1,1), \"$lt\": datetime(2101,1,1)}}\n",
    "    return query\n",
    "\n",
    "# Do not edit code below this line in the online code editor.\n",
    "# Code here is for local use on your own computer.\n",
    "def get_db():\n",
    "    from pymongo import MongoClient\n",
    "    client = MongoClient('localhost:27017')\n",
    "    db = client.examples\n",
    "    return db\n",
    "\n",
    "if __name__ == \"__main__\":\n",
    "    # For local use\n",
    "    db = get_db() \n",
    "    db.cities.insert_one(\n",
    "                    {\n",
    "                 'areaCode': ['916'],\n",
    "                 'areaLand': 109271000.0,\n",
    "                 'country': 'United States',\n",
    "                 'elevation': 13.716,\n",
    "                 'foundingDate': datetime(2000, 7, 1, 0, 0),\n",
    "                 'governmentType': ['Council\\u2013manager government'],\n",
    "                 'homepage': ['http://elkgrovecity.org/'],\n",
    "                 'isPartOf': ['California', u'Sacramento County California'],\n",
    "                 'lat': 38.4383,\n",
    "                 'leaderTitle': 'Chief Of Police',\n",
    "                 'lon': -121.382,\n",
    "                 'motto': 'Proud Heritage Bright Future',\n",
    "                 'name': 'City of Elk Grove',\n",
    "                 'population': 155937,\n",
    "                 'postalCode': '95624 95757 95758 95759',\n",
    "                 'timeZone': ['Pacific Time Zone'],\n",
    "                 'utcOffset': ['-7', '-8']\n",
    "                    }\n",
    "                    )\n",
    "    query = range_query()\n",
    "    cities = db.cities.find(query)\n",
    "\n",
    "\n",
    "    print \"Found cities:\", cities.count()\n",
    "    import pprint\n",
    "    pprint.pprint(cities[0])\n",
    "      \n"
   ]
  },
  {
   "cell_type": "code",
   "execution_count": null,
   "metadata": {
    "collapsed": true
   },
   "outputs": [],
   "source": []
  }
 ],
 "metadata": {
  "anaconda-cloud": {},
  "kernelspec": {
   "display_name": "Python [default]",
   "language": "python",
   "name": "python2"
  },
  "language_info": {
   "codemirror_mode": {
    "name": "ipython",
    "version": 2
   },
   "file_extension": ".py",
   "mimetype": "text/x-python",
   "name": "python",
   "nbconvert_exporter": "python",
   "pygments_lexer": "ipython2",
   "version": "2.7.12"
  }
 },
 "nbformat": 4,
 "nbformat_minor": 1
}

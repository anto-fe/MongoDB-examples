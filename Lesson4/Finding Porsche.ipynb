{
 "cells": [
  {
   "cell_type": "code",
   "execution_count": 27,
   "metadata": {
    "collapsed": false
   },
   "outputs": [
    {
     "data": {
      "text/plain": [
       "ObjectId('58b89315bc54f43e34e5609c')"
      ]
     },
     "execution_count": 27,
     "metadata": {},
     "output_type": "execute_result"
    }
   ],
   "source": [
    "result = db.autos.insert_one({\n",
    "\t\"layout\" : \"rear mid-engine rear-wheel-drive layout\",\n",
    "\t\"name\" : \"Porsche Boxster\",\n",
    "\t\"productionYears\" : [ ],\n",
    "\t\"modelYears\" : [ ],\n",
    "\t\"bodyStyle\" : \"roadster\",\n",
    "\t\"assembly\" : [\n",
    "\t\t\"Finland\",\n",
    "\t\t\"Germany\",\n",
    "\t\t\"Stuttgart\",\n",
    "\t\t\"Uusikaupunki\"\n",
    "\t],\n",
    "\t\"class\" : \"sports car\",\n",
    "\t\"manufacturer\" : \"Porsche\"\n",
    "})\n",
    "\n",
    "result.inserted_id"
   ]
  },
  {
   "cell_type": "code",
   "execution_count": 28,
   "metadata": {
    "collapsed": false
   },
   "outputs": [
    {
     "name": "stdout",
     "output_type": "stream",
     "text": [
      "Printing first 3 results\n",
      "\n",
      "{u'_id': ObjectId('58b89315bc54f43e34e5609c'),\n",
      " u'assembly': [u'Finland', u'Germany', u'Stuttgart', u'Uusikaupunki'],\n",
      " u'bodyStyle': u'roadster',\n",
      " u'class': u'sports car',\n",
      " u'layout': u'rear mid-engine rear-wheel-drive layout',\n",
      " u'manufacturer': u'Porsche',\n",
      " u'modelYears': [],\n",
      " u'name': u'Porsche Boxster',\n",
      " u'productionYears': []}\n"
     ]
    }
   ],
   "source": [
    "#!/usr/bin/env python\n",
    "\"\"\"\n",
    "Your task is to complete the 'porsche_query' function and in particular the query\n",
    "to find all autos where the manufacturer field matches \"Porsche\".\n",
    "Please modify only 'porsche_query' function, as only that will be taken into account.\n",
    "\n",
    "Your code will be run against a MongoDB instance that we have provided.\n",
    "If you want to run this code locally on your machine,\n",
    "you have to install MongoDB and download and insert the dataset.\n",
    "For instructions related to MongoDB setup and datasets please see Course Materials at\n",
    "the following link:\n",
    "https://www.udacity.com/wiki/ud032\n",
    "\"\"\"\n",
    "\n",
    "def porsche_query():\n",
    "    # Please fill in the query to find all autos manuafactured by Porsche.\n",
    "#     db.find( { \"borough\": \"Manhattan\" } )\n",
    "#     cursor = db.examples.find( {\"manufacturer\": \"Porsche\"} ) \n",
    "#     for j in cursor:\n",
    "#         print j\n",
    "#         print\n",
    "    query ={\"manufacturer\": \"Porsche\"} \n",
    "    return query\n",
    "\n",
    "\n",
    "# Do not edit code below this line in the online code editor.\n",
    "# Code here is for local use on your own computer.\n",
    "def get_db(db_name):\n",
    "    # For local use\n",
    "    from pymongo import MongoClient\n",
    "    client = MongoClient('localhost:27017')\n",
    "    db = client[db_name]\n",
    "    return db\n",
    "\n",
    "def find_porsche(db, query):\n",
    "    # For local use\n",
    "    return db.autos.find(query)\n",
    "\n",
    "\n",
    "if __name__ == \"__main__\":\n",
    "    # For local use\n",
    "    db = get_db('examples')\n",
    "    query = porsche_query()\n",
    "    results = find_porsche(db, query)\n",
    "\n",
    "    print \"Printing first 3 results\\n\"\n",
    "    import pprint\n",
    "    for car in results[:3]:\n",
    "        pprint.pprint(car)"
   ]
  },
  {
   "cell_type": "code",
   "execution_count": null,
   "metadata": {
    "collapsed": true
   },
   "outputs": [],
   "source": []
  }
 ],
 "metadata": {
  "anaconda-cloud": {},
  "kernelspec": {
   "display_name": "Python [default]",
   "language": "python",
   "name": "python2"
  },
  "language_info": {
   "codemirror_mode": {
    "name": "ipython",
    "version": 2
   },
   "file_extension": ".py",
   "mimetype": "text/x-python",
   "name": "python",
   "nbconvert_exporter": "python",
   "pygments_lexer": "ipython2",
   "version": "2.7.12"
  }
 },
 "nbformat": 4,
 "nbformat_minor": 1
}

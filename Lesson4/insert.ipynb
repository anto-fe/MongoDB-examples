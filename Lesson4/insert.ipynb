{
 "cells": [
  {
   "cell_type": "code",
   "execution_count": 6,
   "metadata": {
    "collapsed": false
   },
   "outputs": [
    {
     "name": "stdout",
     "output_type": "stream",
     "text": [
      "{u'assembly': [u'Finland', u'Germany', u'Stuttgart', u'Uusikaupunki'], u'name': u'Porsche Boxster', u'bodyStyle': u'roadster', u'modelYears': [], u'productionYears': [], u'layout': u'rear mid-engine rear-wheel-drive layout', u'_id': ObjectId('58b89315bc54f43e34e5609c'), u'class': u'sports car', u'manufacturer': u'Porsche'}\n"
     ]
    },
    {
     "name": "stderr",
     "output_type": "stream",
     "text": [
      "/home/pc/anaconda2/lib/python2.7/site-packages/ipykernel/__main__.py:16: DeprecationWarning: insert is deprecated. Use insert_one or insert_many instead.\n"
     ]
    }
   ],
   "source": [
    "#!/usr/bin/env python\n",
    "\"\"\" \n",
    "Add a single line of code to the insert_autos function that will insert the\n",
    "automobile data into the 'autos' collection. The data variable that is\n",
    "returned from the process_file function is a list of dictionaries, as in the\n",
    "example in the previous video.\n",
    "\"\"\"\n",
    "\n",
    "from autos import process_file\n",
    "\n",
    "\n",
    "def insert_autos(infile, db):\n",
    "    data = process_file(infile)\n",
    "    # Add your code here. Insert the data in one command.\n",
    "    for a in data:\n",
    "        db.autos.insert(a)\n",
    "    \n",
    "  \n",
    "if __name__ == \"__main__\":\n",
    "    # Code here is for local use on your own computer.\n",
    "    from pymongo import MongoClient\n",
    "    client = MongoClient(\"mongodb://localhost:27017\")\n",
    "    db = client.examples\n",
    "\n",
    "    insert_autos('autos-small.csv', db)\n",
    "    print db.autos.find_one()"
   ]
  },
  {
   "cell_type": "code",
   "execution_count": null,
   "metadata": {
    "collapsed": true
   },
   "outputs": [],
   "source": []
  }
 ],
 "metadata": {
  "anaconda-cloud": {},
  "kernelspec": {
   "display_name": "Python [default]",
   "language": "python",
   "name": "python2"
  },
  "language_info": {
   "codemirror_mode": {
    "name": "ipython",
    "version": 2
   },
   "file_extension": ".py",
   "mimetype": "text/x-python",
   "name": "python",
   "nbconvert_exporter": "python",
   "pygments_lexer": "ipython2",
   "version": "2.7.12"
  }
 },
 "nbformat": 4,
 "nbformat_minor": 1
}

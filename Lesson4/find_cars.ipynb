{
 "cells": [
  {
   "cell_type": "code",
   "execution_count": 14,
   "metadata": {
    "collapsed": false
   },
   "outputs": [
    {
     "name": "stdout",
     "output_type": "stream",
     "text": [
      "Found autos: 0\n"
     ]
    }
   ],
   "source": [
    "#!/usr/bin/env python\n",
    "\"\"\"\n",
    "Your task is to write a query that will return all cars manufactured by\n",
    "\"Ford Motor Company\" that are assembled in Germany, United Kingdom, or Japan.\n",
    "Please modify only 'in_query' function, as only that will be taken into account.\n",
    "\n",
    "Your code will be run against a MongoDB instance that we have provided.\n",
    "If you want to run this code locally on your machine,\n",
    "you have to install MongoDB, download and insert the dataset.\n",
    "For instructions related to MongoDB setup and datasets please see Course Materials.\n",
    "\"\"\"\n",
    "\n",
    "\n",
    "def in_query():\n",
    "    # Modify the below line with your query; try to use the $in operator.\n",
    "    query = { \"manufacturer\": \"Ford Motor Company\", \"assembly\": {\"$in\": ['Germany', 'United Kingdom', 'Japan']} }\n",
    "    return query\n",
    "\n",
    "\n",
    "# Do not edit code below this line in the online code editor.\n",
    "# Code here is for local use on your own computer.\n",
    "def get_db():\n",
    "    from pymongo import MongoClient\n",
    "    client = MongoClient('localhost:27017')\n",
    "    db = client.examples\n",
    "    return db\n",
    "\n",
    "\n",
    "if __name__ == \"__main__\":\n",
    "\n",
    "    db = get_db()\n",
    "    db.autos.insert_one({\n",
    "                        \"layout\" : \"rear mid-engine rear-wheel-drive layout\",\n",
    "                        \"name\" : \"Porsche Boxster\",\n",
    "                        \"productionYears\" : [ ],\n",
    "                        \"modelYears\" : [ ],\n",
    "                        \"bodyStyle\" : \"roadster\",\n",
    "                        \"assembly\" : [\n",
    "                            \"Finland\",\n",
    "                            \"Germany\",\n",
    "                            \"Stuttgart\",\n",
    "                            \"Uusikaupunki\"\n",
    "                        ],\n",
    "                        \"class\" : \"sports car\",\n",
    "                        \"manufacturer\" : \"Porsche\"\n",
    "                        }\n",
    "                       )\n",
    "    query = in_query()\n",
    "    autos = db.autos.find(query, {\"name\":1, \"manufacturer\":1, \"assembly\": 1, \"_id\":0})\n",
    "\n",
    "    print \"Found autos:\", autos.count()\n",
    "    import pprint\n",
    "    for a in autos:\n",
    "        pprint.pprint(a)\n"
   ]
  },
  {
   "cell_type": "code",
   "execution_count": null,
   "metadata": {
    "collapsed": true
   },
   "outputs": [],
   "source": []
  }
 ],
 "metadata": {
  "anaconda-cloud": {},
  "kernelspec": {
   "display_name": "Python [default]",
   "language": "python",
   "name": "python2"
  },
  "language_info": {
   "codemirror_mode": {
    "name": "ipython",
    "version": 2
   },
   "file_extension": ".py",
   "mimetype": "text/x-python",
   "name": "python",
   "nbconvert_exporter": "python",
   "pygments_lexer": "ipython2",
   "version": "2.7.12"
  }
 },
 "nbformat": 4,
 "nbformat_minor": 1
}

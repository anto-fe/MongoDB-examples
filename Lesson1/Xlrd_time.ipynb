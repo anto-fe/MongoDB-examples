{
 "cells": [
  {
   "cell_type": "code",
   "execution_count": 86,
   "metadata": {
    "collapsed": false
   },
   "outputs": [
    {
     "name": "stdout",
     "output_type": "stream",
     "text": [
      "(2013, 8, 13, 17, 0, 0)\n",
      "18779.02551\n"
     ]
    }
   ],
   "source": [
    "#!/usr/bin/env python\n",
    "\"\"\"\n",
    "Your task is as follows:\n",
    "- read the provided Excel file\n",
    "- find and return the min, max and average values for the COAST region\n",
    "- find and return the time value for the min and max entries\n",
    "- the time values should be returned as Python tuples\n",
    "\n",
    "Please see the test function for the expected return format\n",
    "\"\"\"\n",
    "\n",
    "import xlrd\n",
    "from zipfile import ZipFile\n",
    "datafile = \"2013_ERCOT_Hourly_Load_Data.xls\"\n",
    "\n",
    "\n",
    "def open_zip(datafile):\n",
    "    with ZipFile('{0}.zip'.format(datafile), 'r') as myzip:\n",
    "        myzip.extractall()\n",
    "\n",
    "\n",
    "def parse_file(datafile):\n",
    "    workbook = xlrd.open_workbook(datafile)\n",
    "    sheet = workbook.sheet_by_index(0)\n",
    "\n",
    "    ### example on how you can get the data\n",
    "    sheet_data = [[sheet.cell_value(r, col) for col in range(sheet.ncols)] for r in range(sheet.nrows)]\n",
    "    ### other useful methods:\n",
    "#     print \"\\nROWS, COLUMNS, and CELLS:\"\n",
    "#     print \"Number of rows in the sheet:\", \n",
    "#     print sheet.nrows\n",
    "#     print \"Type of data in cell (row 3, col 2):\", \n",
    "#     print sheet.cell_type(3, 2)\n",
    "    # print \"Value in cell (row 3, col 2):\", \n",
    "    # print sheet.cell_value(3, 2)\n",
    "#     print \"Get a slice of values in column 3, from rows 1-3:\"\n",
    "#     print sheet.col_values(1, start_rowx=0, end_rowx=4)\n",
    "    # print \"\\nDATES:\"\n",
    "    # print \"Type of data in cell (row 1, col 0):\", \n",
    "    # print sheet.cell_type(1, 0)\n",
    "    # exceltime = sheet.cell_value(1, 0)\n",
    "    # print \"Time in Excel format:\",\n",
    "    # print exceltime\n",
    "    # print \"Convert time to a Python datetime tuple, from the Excel float:\",\n",
    "    # print xlrd.xldate_as_tuple(exceltime, 0)\n",
    "    \n",
    "    col = sheet.col_values(1, start_rowx=1, end_rowx=sheet.nrows)\n",
    "    minvalue = min(col)\n",
    "    maxvalue = max(col)\n",
    "    \n",
    "    import numpy as np\n",
    "    avgcoast = np.mean(sheet.col_values(1, start_rowx=1, end_rowx=sheet.nrows))\n",
    "    \n",
    "    maxarg = col.index(maxvalue) + 1\n",
    "    minarg = col.index(minvalue) + 1\n",
    "\n",
    "    maxtime = sheet.cell_value(maxarg,0)\n",
    "    realmax = xlrd.xldate_as_tuple(maxtime,0)\n",
    "   \n",
    "    mintime = sheet.cell_value(minarg,0)\n",
    "    realmin = xlrd.xldate_as_tuple(mintime,0)\n",
    "    print realmax\n",
    "    print round(maxvalue, 10)\n",
    "    data = {\n",
    "            'maxtime': realmax,\n",
    "            'maxvalue': maxvalue,\n",
    "            'mintime': (0, 0, 0, 0, 0, 0),\n",
    "            'minvalue': minvalue,\n",
    "            'avgcoast': avgcoast,\n",
    "    }\n",
    "    return data\n",
    "parse_file(datafile)\n",
    "\n",
    "def test():\n",
    "    open_zip(datafile)\n",
    "    data = parse_file(datafile)\n",
    "\n",
    "    assert data['maxtime'] == (2013, 8, 13, 17, 0, 0)\n",
    "    assert round(data['maxvalue'], 10) == round(18779.02551, 10)\n",
    "\n",
    "\n",
    "# test()"
   ]
  },
  {
   "cell_type": "code",
   "execution_count": null,
   "metadata": {
    "collapsed": true
   },
   "outputs": [],
   "source": []
  }
 ],
 "metadata": {
  "anaconda-cloud": {},
  "kernelspec": {
   "display_name": "Python [default]",
   "language": "python",
   "name": "python2"
  },
  "language_info": {
   "codemirror_mode": {
    "name": "ipython",
    "version": 2
   },
   "file_extension": ".py",
   "mimetype": "text/x-python",
   "name": "python",
   "nbconvert_exporter": "python",
   "pygments_lexer": "ipython2",
   "version": "2.7.12"
  }
 },
 "nbformat": 4,
 "nbformat_minor": 1
}
